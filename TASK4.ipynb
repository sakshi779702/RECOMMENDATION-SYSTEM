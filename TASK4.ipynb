{
 "cells": [
  {
   "cell_type": "code",
   "execution_count": 1,
   "id": "dc271ae9",
   "metadata": {},
   "outputs": [],
   "source": [
    "# 1. Import Libraries\n",
    "import pandas as pd\n",
    "import numpy as np\n",
    "from sklearn.decomposition import TruncatedSVD\n"
   ]
  },
  {
   "cell_type": "code",
   "execution_count": 2,
   "id": "d648a338",
   "metadata": {},
   "outputs": [],
   "source": [
    "# 2. Sample Data\n",
    "data = {\n",
    "    'user_id': [1, 1, 1, 2, 2, 3, 3, 4, 4, 5],\n",
    "    'item_id': ['A', 'B', 'C', 'A', 'B', 'B', 'C', 'A', 'C', 'B'],\n",
    "    'rating': [5, 3, 2, 4, 2, 5, 3, 2, 5, 4]\n",
    "}\n",
    "df = pd.DataFrame(data)"
   ]
  },
  {
   "cell_type": "code",
   "execution_count": 3,
   "id": "a7373b5d",
   "metadata": {},
   "outputs": [],
   "source": [
    "# 3. Create user-item matrix\n",
    "user_item_matrix = df.pivot_table(index='user_id', columns='item_id', values='rating').fillna(0)"
   ]
  },
  {
   "cell_type": "code",
   "execution_count": 4,
   "id": "8b21569e",
   "metadata": {},
   "outputs": [],
   "source": [
    "# 4. Apply Truncated SVD\n",
    "svd = TruncatedSVD(n_components=2)\n",
    "matrix_reduced = svd.fit_transform(user_item_matrix)\n",
    "predicted_matrix = np.dot(matrix_reduced, svd.components_)"
   ]
  },
  {
   "cell_type": "code",
   "execution_count": 5,
   "id": "505334c1",
   "metadata": {},
   "outputs": [],
   "source": [
    "\n",
    "# 5. Convert to DataFrame\n",
    "predicted_ratings = pd.DataFrame(predicted_matrix, index=user_item_matrix.index, columns=user_item_matrix.columns)"
   ]
  },
  {
   "cell_type": "code",
   "execution_count": 6,
   "id": "d11ee0ca",
   "metadata": {},
   "outputs": [],
   "source": [
    "# 6. Recommendation Function\n",
    "def recommend_items(user_id, original_matrix, predicted_matrix, n=2):\n",
    "    user_row = predicted_matrix.loc[user_id]\n",
    "    already_rated = original_matrix.loc[user_id][original_matrix.loc[user_id] > 0].index.tolist()\n",
    "    recommendations = user_row.drop(labels=already_rated).sort_values(ascending=False).head(n)\n",
    "    return recommendations"
   ]
  },
  {
   "cell_type": "code",
   "execution_count": 7,
   "id": "150cebf5",
   "metadata": {},
   "outputs": [
    {
     "name": "stdout",
     "output_type": "stream",
     "text": [
      "Recommendations:\n",
      "{1: Series([], Name: 1, dtype: float64), 2: item_id\n",
      "C    2.044095\n",
      "Name: 2, dtype: float64, 3: item_id\n",
      "A    0.985873\n",
      "Name: 3, dtype: float64, 4: item_id\n",
      "B    0.410173\n",
      "Name: 4, dtype: float64, 5: item_id\n",
      "C    0.449323\n",
      "A   -0.302961\n",
      "Name: 5, dtype: float64}\n"
     ]
    }
   ],
   "source": [
    "# 7. Get Recommendations\n",
    "recommendations = {user: recommend_items(user, user_item_matrix, predicted_ratings) for user in user_item_matrix.index}\n",
    "print(\"Recommendations:\")\n",
    "print(recommendations)"
   ]
  }
 ],
 "metadata": {
  "kernelspec": {
   "display_name": "py377",
   "language": "python",
   "name": "python3"
  },
  "language_info": {
   "codemirror_mode": {
    "name": "ipython",
    "version": 3
   },
   "file_extension": ".py",
   "mimetype": "text/x-python",
   "name": "python",
   "nbconvert_exporter": "python",
   "pygments_lexer": "ipython3",
   "version": "3.7.1"
  }
 },
 "nbformat": 4,
 "nbformat_minor": 5
}
